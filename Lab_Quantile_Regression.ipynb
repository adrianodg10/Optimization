{
  "nbformat": 4,
  "nbformat_minor": 0,
  "metadata": {
    "colab": {
      "name": "lab_lanvin_del_gallo.ipynb",
      "provenance": [],
      "machine_shape": "hm"
    },
    "kernelspec": {
      "display_name": "Python 3",
      "language": "python",
      "name": "python3"
    },
    "language_info": {
      "codemirror_mode": {
        "name": "ipython",
        "version": 3
      },
      "file_extension": ".py",
      "mimetype": "text/x-python",
      "name": "python",
      "nbconvert_exporter": "python",
      "pygments_lexer": "ipython3",
      "version": "3.7.3"
    }
  },
  "cells": [
    {
      "cell_type": "markdown",
      "metadata": {
        "colab_type": "text",
        "id": "91T0I5-54xBg"
      },
      "source": [
        "# Computer Lab: Quantile Regression"
      ]
    },
    {
      "cell_type": "markdown",
      "metadata": {
        "id": "gCSewzmkciVM",
        "colab_type": "text"
      },
      "source": [
        "### Adriano Del Gallo & Alexandre Lanvin"
      ]
    },
    {
      "cell_type": "markdown",
      "metadata": {
        "colab_type": "text",
        "id": "78gXCkYu4xBi"
      },
      "source": [
        "### 1. Data"
      ]
    },
    {
      "cell_type": "code",
      "metadata": {
        "colab_type": "code",
        "id": "UC7J8J-84xBj",
        "colab": {}
      },
      "source": [
        "import numpy as np\n",
        "from sklearn.preprocessing import StandardScaler\n",
        "from sklearn.model_selection import train_test_split\n",
        "from scipy.io import loadmat\n",
        "\n",
        "\n",
        "def load_data(filename='census_data.mat', test_size=0.33):\n",
        "    data = loadmat(filename)\n",
        "    X = data.get('A')  # Educational Attainment\n",
        "    X = np.asarray(X, dtype='float64')\n",
        "    # Variables\n",
        "#    Sex\n",
        "#    Age in 30 40\n",
        "#    Age in 40 50\n",
        "#    Age in 50 60\n",
        "#    Age in 60 70\n",
        "#    Age gte 70\n",
        "#    Non white\n",
        "#    Unmarried\n",
        "#    Education\n",
        "#    Education code squared\n",
        "    # Education\n",
        "    #00 Not in universe (Under 3 years)\n",
        "    #01 No schooling completed\n",
        "    #02 Nursery school to 4th grade\n",
        "    #03 5th grade or 6th grade\n",
        "    #04 7th grade or 8th grade\n",
        "    #05 9th grade\n",
        "    #06 10th grade\n",
        "    #07 11th grade\n",
        "    #08 12th grade, no diploma\n",
        "    #09 High school graduate\n",
        "    #10 Some college, but less than 1 year\n",
        "    #11 One or more years of college, no degree\n",
        "    #12 Associate degree\n",
        "    #13 Bachelorâ€™s degree\n",
        "    #14 Masterâ€™s degree\n",
        "    #15 Professional degree\n",
        "    #16 Doctorate degree\n",
        "    y = data.get('b')[:, 0].reshape(-1, 1)\n",
        "    del data\n",
        "    ind = np.nonzero(y == 0.)[0]  # remove samples with no income\n",
        "    X = np.delete(X, ind, axis=0)\n",
        "    y = np.delete(y, ind, axis=0)\n",
        "    X = np.delete(X, 1, axis=1)  # this variable is just ones everywhere\n",
        "\n",
        "    scaler_x = StandardScaler()\n",
        "    scaler_y = StandardScaler()\n",
        "\n",
        "    X_train, X_test, y_train, y_test = train_test_split(X, y,\n",
        "                                test_size=test_size, random_state=0)\n",
        "    X_train = scaler_x.fit_transform(X_train)\n",
        "    y_train = scaler_y.fit_transform(y_train)\n",
        "    X_test = scaler_x.transform(X_test)\n",
        "    y_test = scaler_y.transform(y_test)\n",
        "\n",
        "    return X_train, X_test, y_train, y_test"
      ],
      "execution_count": 0,
      "outputs": []
    },
    {
      "cell_type": "markdown",
      "metadata": {
        "colab_type": "text",
        "id": "2VWjaazw4xBq"
      },
      "source": [
        "###  2. Quantile regression with linear kernels"
      ]
    },
    {
      "cell_type": "markdown",
      "metadata": {
        "colab_type": "text",
        "id": "KJeavvJ_4xBr"
      },
      "source": [
        "#### Question 2.1"
      ]
    },
    {
      "cell_type": "markdown",
      "metadata": {
        "colab_type": "text",
        "id": "3HFIzEpz4xBs"
      },
      "source": [
        "* Let us calculate $L^*_{\\tau}$, the Fenchel-Legendre conjugate of $L_{\\tau}$.  \n",
        "\n",
        "By definition: $\\forall \\phi \\in \\mathbb{R}, $ \n",
        "\n",
        "$\\begin{equation}\n",
        "\\begin{aligned}\n",
        "L^*_{\\tau}(\\phi) &= \\underset{x \\in \\mathbb{R}}{\\mathrm{sup}}(<\\phi,x> - \\,L_{\\tau}(x))\\\\\n",
        "& = \\underset{x \\in \\mathbb{R}}{\\mathrm{sup}}(\\phi x -\\mathrm{max}(-(1-\\tau)x, \\tau x)) \\\\\n",
        "& = \\underset{x \\in \\mathbb{R}}{\\mathrm{sup}} \\,\\mathrm{min} \\,((1-\\tau + \\phi)x, \\,(\\phi -\\tau) x)\n",
        "\\end{aligned}\n",
        "\\end{equation}$  \n",
        "\n",
        "If $1-\\tau + \\phi$ and $ \\phi -\\tau$ are of the same sign, then $L^* = +\\infty$. Since $\\tau$ is in $(0,1)$, the only possible case where $L^*$ is finite is when $1-\\tau + \\phi > 0$ and $ \\phi -\\tau < 0$, i.e. when $\\phi \\in [\\tau - 1,\\, \\tau]$ in which case $L^* = 0$. \n",
        "\n",
        "Finally $L^* = \\iota_{[\\tau - 1,\\, \\tau]}$ and $(\\gamma L)^* = \\iota_{[\\gamma(\\tau - 1),\\, \\gamma\\tau]}$"
      ]
    },
    {
      "cell_type": "markdown",
      "metadata": {
        "colab_type": "text",
        "id": "Enfmp-L74xBt"
      },
      "source": [
        "* Let us calculate the proximal of $L^*$\n",
        "\n",
        "$\\begin{equation}\n",
        "\\begin{aligned}\n",
        "\\mathrm{prox}_{\\gamma\\,L^*}(v) &=  \\underset{x \\in \\mathbb{R}}{\\mathrm{argmin}} \\, \\iota_{[\\gamma(\\tau - 1),\\, \\gamma\\tau]}(x) + \\frac{1}{2\\gamma}||v-x||^2\\\\\n",
        "& = \\underset{x \\in [\\gamma(\\tau - 1),\\, \\gamma\\tau]}{\\mathrm{argmin}} ||v-x||^2\n",
        "\\end{aligned}\n",
        "\\end{equation}$ \n",
        "\n",
        "$\\mathrm{prox}_{\\gamma L^*}(v)$ is the projection of $v$ on $d_\\tau = [\\gamma(\\tau - 1),\\, \\gamma\\tau] $"
      ]
    },
    {
      "cell_type": "markdown",
      "metadata": {
        "colab_type": "text",
        "id": "daBVuMjG4xBt"
      },
      "source": [
        "* Finaly we can can compute $\\mathrm{prox}_{\\gamma L}$\n",
        "\n",
        "Using Moreau's identity we gat that :\n",
        "\n",
        "$\\begin{equation}\n",
        "\\begin{aligned}\n",
        "\\mathrm{prox}_{\\gamma\\,L}(v) &= v  - \\mathrm{prox}_{\\gamma L^*}(v) \\\\\\\\\n",
        "prox_{\\gamma L_\\tau}(v) &= \n",
        "{\\left\\{\n",
        "    \\begin{array}{ll}\n",
        "       v-\\gamma\\tau \\,\\:\\:\\:\\: \\; \\; \\; \\; \\; \\;  \\text{if} \\;\\gamma\\tau < v   \\\\\n",
        "       0    \\;\\;\\;\\;\\; \\; \\; \\; \\; \\; \\; \\; \\;  \\; \\; \\; \\; \\text{if} \\, v\\in d_\\tau \\\\\n",
        "       v + \\gamma(\\tau-1) \\,\\: \\; \\text{if}\\; v < \\gamma (\\tau-1) \\\\\n",
        "    \\end{array}\n",
        "\\right.}\n",
        "\\end{aligned}\n",
        "\\end{equation}$\n",
        "\n"
      ]
    },
    {
      "cell_type": "markdown",
      "metadata": {
        "colab_type": "text",
        "id": "_2Sfzmus4xBu"
      },
      "source": [
        "#### Question 2.2\n",
        "\n",
        "Let $(w, w_0) \\in \\mathbb{R}^2$, $\\gamma > 0$.  \n",
        "Let's calculate $prox_{\\gamma g}((w,w_0))$\n",
        "\n",
        "$\\begin{equation}\n",
        "\\begin{aligned}\n",
        "prox_{\\gamma g}((w,w_0)) &= \\underset{(y,y0)\\in \\mathbb{R}^2}{\\mathrm{argmin}}\\, \\gamma g((y,y_0)) + \\frac{1}{2} ||(y,y_0) - (w,w_0)||^2 \\\\\n",
        "&= \\underset{(y,y0)\\in \\mathbb{R}^2}{\\mathrm{argmin}}\\, \\frac{\\gamma \\alpha}{2}||y||^2 + \\frac{1}{2} ||(y -w ,y_0- w_0)||^2 \\\\\n",
        "\\end{aligned}\n",
        "\\end{equation}$\n",
        "\n",
        "Let's consider the function $\\Phi_{w,w_0} : (y,y_0) \\longmapsto \\frac{\\gamma \\alpha}{2}||(y,y_0)||^2 + \\frac{1}{2} ||(y -w ,y_0- w_0)||^2$  \n",
        "$\\Phi_{w,w_0}$ is differentiable and convex on $\\mathbb{R}^2$.  \n",
        "Let $(y, y_0) \\in \\mathbb{R}^2$.\n",
        "\n",
        "$\\nabla\\Phi_{w,w_0}(y,y_0) = 0$ i.i.f. \n",
        "$\\left\\{\\begin{align}\n",
        "\\alpha \\gamma y + y-w= 0\\\\\n",
        "y_0 - w_0 =0\n",
        "\\end{align}\\right.$  \n",
        "i.e. i.i.f. $\\left\\{\n",
        "\\begin{equation}\n",
        "\\begin{aligned}\n",
        "y &= \\frac{1}{1 + \\gamma \\alpha}w\\\\\n",
        "y_0 &=w_0\n",
        "\\end{aligned}\n",
        "\\end{equation}\\right.$\n",
        "\n",
        "Therefore, $\\Phi_{w,w_0}$ admits a minimum in $\\left(\\frac{1}{1 + \\gamma \\alpha}w,w_0\\right)$, and:\n",
        "$$\\boxed{prox_{\\gamma g}((w,w_0)) = \\left(\\frac{w}{1 + \\gamma \\alpha},w_0\\right)}$$"
      ]
    },
    {
      "cell_type": "markdown",
      "metadata": {
        "colab_type": "text",
        "id": "uLlBQw4M4xBv"
      },
      "source": [
        "#### Question 2.3"
      ]
    },
    {
      "cell_type": "markdown",
      "metadata": {
        "colab_type": "text",
        "id": "elZL0nEH4xBx"
      },
      "source": [
        "* First equality :  \n",
        "\n",
        "$\\underset{w \\in \\mathbb{R}^d, w_0 \\in \\mathbb{R}}{\\mathrm{min}}\\frac{\\alpha}{2}||w||^2 - L_\\tau(y-xw -w_0e)$ is the primal value to the problem. Since there are feasable points, the primal value being attained is equivilant to the existence of a saddle point to the Lagrangian. \n",
        "\n",
        "Thus : \n",
        "\n",
        "\n",
        "$\\begin{equation}\n",
        "\\begin{aligned}\n",
        "\\underset{w \\in \\mathbb{R}^d, w_0 \\in \\mathbb{R}}{\\mathrm{min}}\\frac{\\alpha}{2}||w||^2 - L_\\tau(y-xw -w_0e)\n",
        "&= \\underset{w \\in \\mathbb{R}^d, w_0 \\in \\mathbb{R}}{\\mathrm{min}}\\underset{z \\in \\mathbb{R}^n}{\\mathrm{max}}\\, \\mathcal{L}((w,w_0),z)\\\\\n",
        "&= \\underset{w \\in \\mathbb{R}^d, w_0 \\in \\mathbb{R}}{\\mathrm{min}}\\underset{z \\in \\mathbb{R}^n}{\\mathrm{max}} \\frac{\\alpha}{2}||w||^2 - L_\\tau^*(z) + z^T(y-xw -w_0e)\n",
        "\\end{aligned}\n",
        "\\end{equation}$ \n",
        "\n",
        "* Second equality: \n",
        "\n",
        "Since we are at a saddle point of the Lagrangian, we can permute $\\mathrm{max}$ and $\\mathrm{min}$. Minimising according to $w$ with fixed $z$ leads to the equation $z^Tx + \\alpha w^T = 0$ which solves into $w = -\\frac{x^Tz}{\\alpha}$. \n",
        "\n",
        "Minimising according to $w_0$ gives the condition $e^Tz = 0$ which we can write as $\\iota_{\\{0\\}}e^Tz$ in the Lagrangian. When injecting the value of w into the lagrangian, we get the second equality by noticing that \n",
        "$z^Txw = -\\frac{1}{\\alpha}||x^Tz||^2$\n",
        "\n",
        "\n",
        "* Last equality :\n",
        "\n",
        "$\\begin{equation}\n",
        "\\begin{aligned}\n",
        "&\\underset{z \\in \\mathbb{R}^n}{\\mathrm{max}}\\,\\underset{u \\in \\mathbb{R}}{\\mathrm{min}}\\, y^Tz - \\frac{1}{2\\alpha}||x^Tz||^2 - L_\\tau^*(z) - ue^Tz\n",
        "&=\\underset{z \\in \\mathbb{R}^n}{\\mathrm{max}}\\, y^Tz - \\frac{1}{2\\alpha}||x^Tz||^2 - L_\\tau^*(z) - \\underset{u \\in \\mathbb{R}}{\\mathrm{max}}\\,ue^Tz\\\\\n",
        "&= \\underset{z \\in \\mathbb{R}^n}{\\mathrm{max}}\\, y^Tz - \\frac{1}{2\\alpha}||x^Tz||^2 - L_\\tau^*(z) - \\iota_{\\left\\{0\\right\\}}(e^Tz)\n",
        "\\end{aligned}\n",
        "\\end{equation}$  \n",
        "as when $e^Tz = 0$, then : $\\forall u \\in \\mathbb{R}, ue^Tz=0$, and else: $ue^Tz \\underset{u \\to \\mathrm{sgn}(e^Tz)\\infty}{\\longrightarrow} +\\infty$ (the limit is well defined).\n",
        "\n",
        "* Finally:\n",
        "$$\\boxed{\n",
        "\\begin{equation}\n",
        "\\begin{aligned}\n",
        "\\underset{w \\in \\mathbb{R}^d, w_0 \\in \\mathbb{R}}{\\mathrm{min}} \\frac{\\alpha}{2}||w||^2 + L_\\tau(y-xw -w_0e)\n",
        "&=  \\underset{w \\in \\mathbb{R}^d, w_0 \\in \\mathbb{R}}{\\mathrm{min}}\\underset{z \\in \\mathbb{R}^n}{\\mathrm{max}} \\frac{\\alpha}{2}||w||^2 - L_\\tau^*(z) + z^T(y-xw -w_0e)\\\\\n",
        "&= \\underset{z \\in \\mathbb{R}^n}{\\mathrm{max}}\\, y^Tz - \\frac{1}{2\\alpha}||x^Tz||^2 - L_\\tau^*(z) - \\iota_{\\left\\{0\\right\\}}(e^Tz)\\\\\n",
        "&= \\underset{z \\in \\mathbb{R}^n}{\\mathrm{max}}\\,\\underset{u \\in \\mathbb{R}}{\\mathrm{min}}\\, y^Tz - \\frac{1}{2\\alpha}||x^Tz||^2 - L_\\tau^*(z) - ue^Tz\n",
        "\\end{aligned}\n",
        "\\end{equation}\n",
        "}$$"
      ]
    },
    {
      "cell_type": "markdown",
      "metadata": {
        "colab_type": "text",
        "id": "2ZWACH-E4xBy"
      },
      "source": [
        "### 3. Implementation"
      ]
    },
    {
      "cell_type": "markdown",
      "metadata": {
        "colab_type": "text",
        "id": "aduWNiMQ8YOO"
      },
      "source": [
        "##### ADMM"
      ]
    },
    {
      "cell_type": "markdown",
      "metadata": {
        "colab_type": "text",
        "id": "CeyRsuuk4xBz"
      },
      "source": [
        "We set \n",
        "$ f(w,w_0) = \\frac{\\alpha}{2}||w||^2$\n",
        "$ g(z) = h(M(w,w_0)) =  \\sum_{i=1}^n (L_{\\tau}(y_{i} - M(w,w_0)_{i}))$\n",
        "$\\,\\text{ with } h(v) = L_\\tau(y-v) \\text{ and } M(w,w_0) = Xw + w_0e^T = (X \\; | e^T)\\begin{pmatrix} w\\\\w_0 \\end{pmatrix}$\n",
        "\n",
        "Which gives us the following iterations for the ADMM algorithm:\n",
        "\n",
        "\n",
        "$$\n",
        "\\left\\{\n",
        "    \\begin{array}{ll}\n",
        "        (w,w_0)^{k+1} \\in \\arg\\!\\min_{(w,w_0)} f((w,w_0)) + <\\lambda^k,M(w,w_0)> + \\frac{1}{2\\gamma}||M(w,w_0)-z^k||^2 \\\\\n",
        "        z^{k+1} = \\arg\\!\\min_z g(z) - <\\lambda^k,z> + \\frac{1}{2\\gamma}||Mx^{k+1}-z||^2\\\\\n",
        "        \\lambda^{k+1} = \\lambda^k + \\frac{1}{\\gamma}(Mx^{k+1} - z^{k+1}) \\\\\n",
        "    \\end{array}\n",
        "\\right.\n",
        "$$\n",
        "\n",
        "Let's compute these quantities explicitly: \n",
        "\n",
        "\n",
        "1.\n",
        "$f$ is differentiable so by the first order optimum conditions can be written\n",
        "\n",
        "$\\begin{equation}\n",
        "\\begin{aligned}\n",
        "&\\alpha w + M^T (\\lambda^k -  \\frac{1}{\\gamma} z^k) + \\frac{1}{\\gamma}M^T M(w,w_0) = 0 \\\\\n",
        "\\iff& \\bigg[ \\alpha \\begin{pmatrix} I_d & 0 \\\\ 0 & 0 \\end{pmatrix} + \\frac{1}{\\gamma}M^T M \\bigg] \\,\\begin{pmatrix} w\\\\w_0 \\end{pmatrix} = M^T (\\frac{1}{\\gamma}z^k - \\lambda^k ) \\\\\n",
        "\\iff&  \\begin{pmatrix} w\\\\w_0 \\end{pmatrix} = \\bigg[ \\alpha \\begin{pmatrix} I_d & 0 \\\\ 0 & 0 \\end{pmatrix} + \\frac{1}{\\gamma}M^T M \\bigg]^{-1} M^T (\\frac{1}{\\gamma}z^k - \\lambda^k ) \\\\\n",
        "\\end{aligned}\n",
        "\\end{equation}$\n",
        "\n",
        "\n",
        "2.\n",
        "We compute $z^k$ by fermat's rule: \n",
        "\n",
        "$ \n",
        "\\begin{align}\n",
        "0 \\in \\partial \\gamma L_\\tau(y - z) - \\gamma\\lambda^k +  (z - (Mx^{k+1})) ) \n",
        "& \\iff \\gamma\\lambda^k+ (Mx^{k+1}) \\in \\partial \\gamma L_\\tau(y - z) + z \\\\\n",
        "& \\iff  z^{k+1} = \\mathrm{prox}_{\\gamma h}(\\gamma\\lambda^k + (Mx^{k+1})) \\\\\n",
        "\\end{align}\n",
        "$\n"
      ]
    },
    {
      "cell_type": "markdown",
      "metadata": {
        "colab_type": "text",
        "id": "_flXpv-ZoyZn"
      },
      "source": [
        "We need to compute $\\mathrm{prox}_{\\gamma h}$ \n",
        "\n",
        "For $y\\in \\mathbb{R}$,\n",
        "\\begin{align}\n",
        "\\\\prox_{\\gamma h}(v) \n",
        "& = \\arg\\min_x [\\gamma L_\\tau(y-x) +\\frac{1}{2}||x-v||^2_2]\\\\\n",
        "& = \\arg\\min_x [\\gamma \\max\\{-(1-\\tau)(y-x),\\tau(y-x)\\} +\\frac{1}{2}||x-v||^2_2]\n",
        "\\end{align}\n",
        "\n",
        "If $y<x$ :\n",
        "\n",
        "$prox_{\\gamma h}(v) = \\arg\\min_x [\\gamma\\tau(y-x)  +\\frac{1}{2}(x-v)^2]$\n",
        "\n",
        "Which gives us by the first order optimal conditions : \n",
        "\n",
        "$x= v+\\gamma\\tau$\n",
        "\n",
        "If $y>x$ : \n",
        "$ prox_{\\gamma h}(v) = \\arg\\min_x [\\gamma(\\tau-1)(y-x)  +\\frac{1}{2}(x-v)^2]$\n",
        "\n",
        "Which gives :\n",
        "\n",
        "$x= v-\\gamma (1-\\tau)$\n",
        "\n",
        "Finally,  \n",
        "$prox_{\\gamma h}(v) = \n",
        "\\left\\{\n",
        "    \\begin{array}{ll}\n",
        "       v - \\gamma(1-\\tau) \\; \\;  \\text{if} : y+\\gamma(1-\\tau)< v \\\\\n",
        "       y \\; \\; \\; \\; \\; \\; \\; \\; \\; \\;\\;\\;\\;\\;\\;\\;\\; \\text{if } v \\in [y-\\gamma \\tau, y+\\gamma(1-\\tau)]\\\\\n",
        "       v+\\gamma \\tau \\;\\;\\;\\;\\;\\;\\; \\; \\; \\;  \\text{if} : y-\\gamma \\tau>v   \n",
        "    \\end{array}\n",
        "\\right.\n",
        "$}"
      ]
    },
    {
      "cell_type": "code",
      "metadata": {
        "colab_type": "code",
        "id": "_WQifzCo4xB2",
        "colab": {}
      },
      "source": [
        "census_data = load_data(test_size = 0.33)"
      ],
      "execution_count": 0,
      "outputs": []
    },
    {
      "cell_type": "code",
      "metadata": {
        "colab_type": "code",
        "id": "P5oS0kPP4xB6",
        "colab": {}
      },
      "source": [
        "X_train, X_test, y_train, y_test = census_data"
      ],
      "execution_count": 0,
      "outputs": []
    },
    {
      "cell_type": "code",
      "metadata": {
        "colab_type": "code",
        "id": "hWUCBK0y4xB9",
        "colab": {}
      },
      "source": [
        "def prox_h(v,y,gamma,tau):\n",
        "    if (y > v + gamma * tau):\n",
        "        return(v + gamma * tau)\n",
        "    if(y < v - gamma*(1-tau)):\n",
        "        return(v-gamma*(1-tau))\n",
        "    return y\n",
        "\n",
        "def L_tau(v, tau):\n",
        "    return max(-(1. -tau)*v, tau*v)\n",
        "\n",
        "def ADMM(X, y, n_iter=20, alpha=1, tau=0.1, gamma=1):\n",
        "    x = [[0.]]*(len(X[1])+1)\n",
        "    z = [[0.]]*(len(X))\n",
        "    Y = y\n",
        "    lambd = z\n",
        "    err_list = []\n",
        "    L_list = []\n",
        "    \n",
        "    e = [1]*len(X_train)\n",
        "    M = np.column_stack((e,X_train))\n",
        "    I = np.identity(len(M[0]))\n",
        "    I[0][0] = 0 \n",
        "    A = np.linalg.inv(alpha * I + (np.dot(M.T, M)) / gamma)\n",
        "    A = np.dot(A, M.T)\n",
        "    \n",
        "    for i in range(n_iter):\n",
        "\n",
        "        x = np.dot(A,np.subtract(z,lambd))\n",
        "        V = np.dot(M,x)+gamma*lambd\n",
        "        for j in range(len(z)):\n",
        "            z[j] = prox_h(V[j],Y[j],gamma,tau)\n",
        "        lambd +=(np.dot(M,x)-z)\n",
        "    \n",
        "        L = 0\n",
        "        for j in range (len(X)):\n",
        "            mu = 0\n",
        "            for k in range(len(X[0])):\n",
        "                mu += X[j,k]*x[k+1]\n",
        "            mu += x[0]\n",
        "            L += L_tau(Y[j][0] - mu[0], tau)\n",
        "        L_list.append(L)\n",
        "        \n",
        "    w = x[1:]\n",
        "    w0 = x[0]\n",
        "    \n",
        "    return(w, w0, L_list)\n",
        "  "
      ],
      "execution_count": 0,
      "outputs": []
    },
    {
      "cell_type": "code",
      "metadata": {
        "colab_type": "code",
        "id": "19VxDFMm4xCA",
        "colab": {}
      },
      "source": [
        "w, w0, L_list = ADMM(X_train, y_train)"
      ],
      "execution_count": 0,
      "outputs": []
    },
    {
      "cell_type": "code",
      "metadata": {
        "colab_type": "code",
        "id": "LyG-1KvqdHjs",
        "colab": {},
        "outputId": "4ce8d353-0363-4980-8c7f-529f1b8c56de"
      },
      "source": [
        "import matplotlib.pyplot as plt\n",
        "plt.plot(L_list)\n",
        "plt.title('Minimisation of the Loss')\n",
        "plt.xlabel('iteration')\n",
        "plt.show()"
      ],
      "execution_count": 0,
      "outputs": [
        {
          "output_type": "display_data",
          "data": {
            "image/png": "[encoded data removed]",
            "text/plain": [
              "<Figure size 432x288 with 1 Axes>"
            ]
          },
          "metadata": {
            "tags": [],
            "needs_background": "light"
          }
        }
      ]
    },
    {
      "cell_type": "markdown",
      "metadata": {
        "colab_type": "text",
        "id": "2YC002RsdUaW"
      },
      "source": [
        "##### Vu-Condat"
      ]
    },
    {
      "cell_type": "markdown",
      "metadata": {
        "colab_type": "text",
        "id": "uy-8WZjpdda-"
      },
      "source": [
        "One can use $\\underset{z \\in \\mathbb{R}^n}{\\mathrm{max}}\\, y^Tz - \\frac{1}{2\\alpha}||x^Tz||^2 - L_\\tau^*(z) - \\iota_{\\left\\{0\\right\\}}(e^Tz)$ to compute our infimum (see question 2.3).  \n",
        "\n",
        "$\\underset{z \\in \\mathbb{R}^n}{\\mathrm{max}}\\, y^Tz - \\frac{1}{2\\alpha}||x^Tz||^2 - L_\\tau^*(z) - \\iota_{\\left\\{0\\right\\}}(e^Tz) = - \\,\\underset{z \\in \\mathbb{R}^n}{\\mathrm{min}}\\, -y^Tz + \\frac{1}{2\\alpha}||x^Tz||^2 + L_\\tau^*(z) + \\iota_{\\left\\{0\\right\\}}(e^Tz)$\n",
        "\n",
        "In this way, it is possible to apply the Vu-Condat algorithm for our goal with $M = e^T, f :z \\longmapsto \\frac{1}{2} \\left \\| x^T z\\right \\|^2 -y^T z, g=L^*_\\tau, h = \\iota_0$.  \n",
        "Indeed, $g,h \\in \\Gamma_0(\\mathbb{R})$ and $f$ is convex and differentiable (by theorem of operations and because the $L^2$ norm is).  \n",
        "One step from the state $k$ to the $k+1$ one may be written as follows (with notations from the course):  \n",
        "\n",
        "$$\\left\\{\n",
        "    \\begin{array}{ll}\n",
        "        z^{k+1} = \\underset{v \\in \\mathcal{Y}}{\\operatorname{argmin}} h(v) \\,- <v, \\Phi^k> + \\frac{1}{2\\gamma}\\left \\| v-Mx^k \\right \\|^2 \\\\\n",
        "       \\Phi^{k+1}=\\Phi^k+\\gamma^{-1}(Mz^k-x^{k+1}) \\\\\n",
        "       x^{k+1} = \\underset{w \\in \\mathcal{X}}{\\operatorname{argmin}} g(w)\\,+<w, \\triangledown f(x^k)> +<w, M^*(2\\Phi^{k+1}-\\Phi^k)> + \\frac{1}{2\\tau}\\left \\| w-x^k\\right \\|^2\\\\\n",
        "    \\end{array}\n",
        "\\right.\n",
        "$$  \n",
        "\n",
        "In our precise case, as $h = \\iota_0$, $h(v) \\,- <v, \\Phi^k> + \\frac{1}{2\\gamma}\\left \\| v-Mx^k \\right \\|^2 = \\left\\{\\begin{array}{ll}0\\,\\,\\mathrm{if}\\,v = 0\\\\+\\infty \\, \\mathrm{otherwise}\\end{array}\n",
        "\\right.$.  \n",
        "In this way, for all k in $\\mathbb{N}$, $\\underset{v \\in \\mathcal{Y}}{\\operatorname{argmin}} h(v) \\,- <v, \\Phi^k> + \\frac{1}{2\\gamma}\\left \\| v-Mx^k \\right \\|^2$ thus for all k in $\\mathbb{N}^*, $ $z^k = 0$.\n",
        "\n",
        "Therefore, the step may be re-written in the following way :\n",
        "\n",
        "\n",
        "$$\\left\\{\n",
        "    \\begin{array}{ll}\n",
        "       \\Phi^{k+1}=\\Phi^k-\\gamma^{-1}x^{k+1} \\\\\n",
        "       x^{k+1} = \\underset{w \\in \\mathcal{X}}{\\operatorname{argmin}} g(w)\\,+<w, \\triangledown f(x^k)> +<w, M^*(2\\Phi^{k+1}-\\Phi^k)> + \\frac{1}{2\\tau}\\left \\| w-x^k\\right \\|^2\\\\\n",
        "    \\end{array}\n",
        "\\right.\n",
        "$$  \n",
        "\n",
        "Moreover, for all k,  \n",
        "$\\begin{align}\n",
        "x^{k+1} &= \\underset{w \\in \\mathcal{X}}{\\operatorname{argmin}} g(w)\\,+<w, \\triangledown f(x^k) + M^*(2\\Phi^{k+1}-\\Phi^k)> + \\frac{1}{2\\tau}\\left \\| w-x^k\\right \\|^2 \\\\\n",
        "& = \\underset{w \\in \\mathcal{X}}{\\operatorname{argmin}} g(w)\\,+<w - x^k, \\triangledown f(x^k) + M^*(2\\Phi^{k+1}-\\Phi^k)> + \\frac{1}{2\\tau}\\left \\| w-x^k\\right \\|^2\n",
        "\\end{align}\n",
        "$  \n",
        "as $<x^k, \\triangledown f(x^k) + M^*(2\\Phi^{k+1}-\\Phi^k)>$ does not depend on $w$.  \n",
        "Thus,  \n",
        "$\\begin{align}\n",
        "x^{k+1}\n",
        "& = g(w) + \\underset{w \\in \\mathcal{X}}{\\operatorname{argmin}}\\left \\| w-\\triangledown f(x^k)+M(2\\Phi^{k+1}-\\Phi^k) \\right \\|^2 \\\\\n",
        "& = \\, prox_{\\tau L^*_\\tau}(\\triangledown f(x^k) - M(2\\Phi^{k+1}-\\Phi^k))\n",
        "\\end{align}$  \n",
        "in our precise case.\n",
        "\n",
        "Finaly, the step could be described in this way for all k:\n",
        "$$\\boxed{\\left\\{\n",
        "    \\begin{array}{ll}\n",
        "       \\Phi^{k+1}=\\Phi^k-\\gamma^{-1}x^{k+1} \\\\\n",
        "       x^{k+1} = \\, prox_{\\tau L^*_\\tau}(\\triangledown f(x^k) - M(2\\Phi^{k+1}-\\Phi^k))\\\\\n",
        "    \\end{array}\n",
        "\\right.}\n",
        "$$  "
      ]
    },
    {
      "cell_type": "code",
      "metadata": {
        "id": "O3zezSq0ciWd",
        "colab_type": "code",
        "colab": {}
      },
      "source": [
        "census_data = load_data(test_size = 0.999)\n",
        "\n",
        "X_train, X_test, y_train, y_test = census_data"
      ],
      "execution_count": 0,
      "outputs": []
    },
    {
      "cell_type": "code",
      "metadata": {
        "id": "7BmnDNiociWf",
        "colab_type": "code",
        "colab": {}
      },
      "source": [
        "def f(z, alpha, args = (X_train, y_train)):\n",
        "    return float(np.linalg.norm(args[0].T @ z)**2/(2*alpha) - args[1].T @ z)\n",
        "\n",
        "def grad_f(z, alpha, X, y):\n",
        "    return X @ X.T @ z - y\n",
        "\n",
        "def prox_L_tau_star(z, tau):\n",
        "    return np.array([(z[i] > tau)*tau + (z[i] < tau - 1)*(tau - 1) for i in range(len(z))])"
      ],
      "execution_count": 0,
      "outputs": []
    },
    {
      "cell_type": "code",
      "metadata": {
        "colab_type": "code",
        "id": "uWnt7dyT4xCC",
        "colab": {}
      },
      "source": [
        "def vu_condat(X, y, f, grad_f, prox_g, M, n_iter, alpha = 1., tau = 0.7, gamma = 1.):\n",
        "    \"\"\"Vũ-Condat method, implemented in our case\n",
        "    -------------------------------------------------------\n",
        "    Inputs :\n",
        "        - X, y : dataset\n",
        "        - f: a convex differentiable function\n",
        "        - grad_f : the gradient of f (supposed to be Lipschitz)\n",
        "        - prox_g : proximity operator of g\n",
        "        - M : linear operator\n",
        "        - n_iter : number of iterations\n",
        "        - alpha, tau, gamma : constants\n",
        "    -------------------------------------------------------\n",
        "    Outputs : the infimum  \n",
        "    \"\"\"\n",
        "    \n",
        "    # Initialization\n",
        "    phi = 1\n",
        "    x = np.zeros(y.shape)\n",
        "    evolution = []\n",
        "    \n",
        "    # Steps\n",
        "    for k in range(n_iter):\n",
        "        previous_phi = phi\n",
        "        phi += M.T @ x /gamma\n",
        "        x = prox_g(x - tau*(grad_f(x, alpha, X, y) + M @ (2*phi - previous_phi)) , tau)\n",
        "        evolution.append(f(x, alpha, args = (X, y)))\n",
        "\n",
        "    return f(x, alpha, args = (X, y)), evolution"
      ],
      "execution_count": 0,
      "outputs": []
    },
    {
      "cell_type": "code",
      "metadata": {
        "colab_type": "code",
        "id": "T3Lh7bJHdvDl",
        "colab": {}
      },
      "source": [
        "infimum, evolution = vu_condat(X_train, y_train, f= f, grad_f = grad_f, prox_g = prox_L_tau_star,M = np.ones(y_train.shape), n_iter = 15, tau = 0.7)"
      ],
      "execution_count": 0,
      "outputs": []
    },
    {
      "cell_type": "code",
      "metadata": {
        "id": "C3N9aLCFciWo",
        "colab_type": "code",
        "colab": {
          "base_uri": "https://localhost:8080/",
          "height": 298
        },
        "outputId": "3f67cca7-ec93-4148-f78b-00f97cf08be6"
      },
      "source": [
        "import matplotlib.pyplot as plt\n",
        "plt.plot(evolution)\n",
        "plt.title(\"Evolution for the Vu condat algorithm\")"
      ],
      "execution_count": 24,
      "outputs": [
        {
          "output_type": "execute_result",
          "data": {
            "text/plain": [
              "Text(0.5, 1.0, 'Evolution for the Vu condat algorithm')"
            ]
          },
          "metadata": {
            "tags": []
          },
          "execution_count": 24
        },
        {
          "output_type": "display_data",
          "data": {
            "image/png": "[encoded data removed]",
            "text/plain": [
              "<Figure size 432x288 with 1 Axes>"
            ]
          },
          "metadata": {
            "tags": []
          }
        }
      ]
    },
    {
      "cell_type": "markdown",
      "metadata": {
        "colab_type": "text",
        "id": "cIHyMFOS4xCF"
      },
      "source": [
        "#### Question 3.2"
      ]
    },
    {
      "cell_type": "markdown",
      "metadata": {
        "id": "z8BogdJJciWr",
        "colab_type": "text"
      },
      "source": [
        "The stopping criterion we could use is to stop the algorithm when the difference between two steps in the update becomes smaller than an $\\epsilon > 0$ that we can define. We chose this because if the updates are smaller than $\\epsilon$ then we have reached a local minimum. One could also check the difference between the loss at every step. In practice however, we use a fixed number of iterations for computational reasons."
      ]
    },
    {
      "cell_type": "markdown",
      "metadata": {
        "colab_type": "text",
        "id": "icARKBuK4xCM"
      },
      "source": [
        "#### Question 3.3"
      ]
    },
    {
      "cell_type": "markdown",
      "metadata": {
        "id": "gS35KN2blTIb",
        "colab_type": "text"
      },
      "source": [
        "Due to memory problems and computational time we were not able to try with the full dataset. However we see on the examples that our algorithms seem to converge properly"
      ]
    },
    {
      "cell_type": "code",
      "metadata": {
        "id": "9GpDBklXciWz",
        "colab_type": "code",
        "colab": {}
      },
      "source": [
        ""
      ],
      "execution_count": 0,
      "outputs": []
    }
  ]
}