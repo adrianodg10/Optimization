{
 "cells": [
  {
   "cell_type": "markdown",
   "metadata": {},
   "source": [
    "# Séparateurs à vaste marge"
   ]
  },
  {
   "cell_type": "code",
   "execution_count": 1,
   "metadata": {},
   "outputs": [],
   "source": [
    "import breastcancerutils \n",
    "import matplotlib.pyplot as plt\n",
    "import numpy as np\n",
    "import time as t"
   ]
  },
  {
   "cell_type": "markdown",
   "metadata": {},
   "source": [
    "____________\n",
    "# 1 Données"
   ]
  },
  {
   "cell_type": "code",
   "execution_count": 2,
   "metadata": {},
   "outputs": [],
   "source": [
    "x , y =  breastcancerutils.load_breastcancer('wdbcM1B0.data')"
   ]
  },
  {
   "cell_type": "markdown",
   "metadata": {},
   "source": [
    "____________\n",
    "# 2 Méthode du sous-gradient\n",
    "\n",
    "## Question 2.1"
   ]
  },
  {
   "cell_type": "markdown",
   "metadata": {},
   "source": [
    "Remarquons d'abord que l'expression à minimiser dans (2) et inférieur ou égale à l'expression à minimiser dans (2) de plus $\\forall v,a$ fixé l'expression de (1) est plus petite ou égale à l'expression de (2) car $\\zeta$ peut prendre pour valeur $max(0,1-y_i(x_i^Tv + a)$ on a donc l'égalité des valeurs de minimum de (1) et (2).\n",
    "\n",
    "En prenant $ v_{2} $ et $ a_{2} $ minimisant (2) et $\\zeta = max(0,1-y_i(x_i^Tv + a))$ la valeur minimal est atteinte, on a contrsuit une solution de (1) à partir d'une solution de (2). \n",
    "\n",
    "En prenant $ v $ , $ a $ et $ \\zeta$ minimisant (1) on a $ \\frac{1}{2}\\sum^{m}_{j=1}v_{j}^{2} + c\\sum^{n}_{i=1}max(0,1-y_i(x_i^Tv + a) \\leq \\frac{1}{2}\\sum^{m}_{j=1}v_{j}^{2} + c\\sum^{n}_{i=1}\\zeta_{i}$ à cause des contraine de (1), or le membre de droite est égale à la valeur minimum commune à (1) et (2) d'où $v$ et  $a$ sont des solution de (2)."
   ]
  },
  {
   "cell_type": "markdown",
   "metadata": {},
   "source": [
    "___________\n",
    "## Question 2.2"
   ]
  },
  {
   "cell_type": "code",
   "execution_count": 3,
   "metadata": {},
   "outputs": [
    {
     "data": {
      "image/png": "[encoded data removed]",
      "text/plain": [
       "<Figure size 432x288 with 1 Axes>"
      ]
     },
     "metadata": {
      "needs_background": "light"
     },
     "output_type": "display_data"
    }
   ],
   "source": [
    "px = np.arange(-5,5,1/100)\n",
    "h = lambda x: max(0,1-x)\n",
    "py = list(map(h,px))\n",
    "\n",
    "plt.plot(px,py)\n",
    "plt.show()"
   ]
  },
  {
   "cell_type": "markdown",
   "metadata": {},
   "source": [
    "aux endroit où h est dérivable on a immédiatement le résultat demandé, en 1 le sous gradient est composé de tout le coefficient des tangentes à h passant pas (0,1), c'est à dire $[-1,0]$"
   ]
  },
  {
   "cell_type": "markdown",
   "metadata": {},
   "source": [
    "____________\n",
    "## Question 2.3"
   ]
  },
  {
   "cell_type": "markdown",
   "metadata": {},
   "source": [
    "En prenant:\n",
    "$\n",
    "\\begin{equation}\n",
    "M = \n",
    "\\begin{pmatrix}\n",
    "y_1  x_1^T & y_1 \\\\\n",
    "... & ... \\\\\n",
    "y_n  x_n^T & y_n\n",
    "\\end{pmatrix}\n",
    "\\end{equation}\n",
    "$ \n",
    "\n",
    "$H(v) = \\sum_{i=1}^{n} h_i(v_i), avec \\: h_i(x) = max(0,1-x) \\\\$\n",
    "et\n",
    "$ \\\\ N = \\sum_{i=1}^{n} n_i(v_i), avec \\: n_i(x) = \\frac{x^2}{2} $\n",
    "\n",
    "On a bien la décomposition demandée. Comme les $dom$ des différentes fonction recouvre les ensembles de définitions on a bien l'agalité $  \\partial f(v,a) = \\partial N(v,a) + cM^T\\partial H(M(v,a))$\n",
    "\n",
    "Comme N est séparable et que chacune de ses composantes est différenciable on à :\n",
    "\n",
    "$\\begin{equation}\n",
    "\\partial N(x_1,...,x_{n+1} ) = {\\Large\\times}_{i=1}^{n+1} \\{ x_i \\}\n",
    "\\end{equation}$\n",
    "\n",
    "\n",
    "\n",
    "$\\begin{equation}\n",
    "\\partial H(x_1,...,x_{n+1} ) = {\\Large\\times}_{i=1}^{n+1} \\partial h(x_i)\n",
    "\\end{equation}$\n",
    "\n",
    "\n",
    "avec $h$ de la question précédente."
   ]
  },
  {
   "cell_type": "markdown",
   "metadata": {},
   "source": [
    "_______\n",
    "## Question 2.4"
   ]
  },
  {
   "cell_type": "code",
   "execution_count": 4,
   "metadata": {},
   "outputs": [],
   "source": [
    "mtemp = np.ones((x.shape[0],x.shape[1]+1))\n",
    "mtemp[:,:-1] = x\n",
    "M = np.diag(y).dot(mtemp)\n",
    "\n",
    "n = lambda x : x**2/2\n",
    "\n",
    "def H(vect):\n",
    "    return np.array(list(map(h,vect)))\n",
    "\n",
    "def N(vect):\n",
    "    return np.append(np.array(list(map(n,vect[:-1]))),np.zeros(1))\n",
    "\n",
    "def gradN(vect):\n",
    "    return np.append(vect[:-1],np.zeros(1))\n",
    "\n",
    "def gradh(x):\n",
    "    if x<=1:\n",
    "        return -1\n",
    "    else:\n",
    "        return 0\n",
    "    \n",
    "def gradH(vect):\n",
    "    return np.array(list(map(gradh,vect)))\n",
    "\n",
    "def function(v,a):\n",
    "    vect = np.append(v,a)\n",
    "    value = N(vect).sum() + H(M.dot(vect)).sum()\n",
    "    grad = gradN(vect) + M.T.dot(gradH(M.dot(vect)))\n",
    "    return value, grad \n",
    "    "
   ]
  },
  {
   "cell_type": "markdown",
   "metadata": {},
   "source": [
    "_________\n",
    "## Question 2.5"
   ]
  },
  {
   "cell_type": "code",
   "execution_count": 6,
   "metadata": {},
   "outputs": [],
   "source": [
    "testv=np.ones(x.shape[1])\n",
    "testa=np.ones(1)\n",
    "v0 = testv-1\n",
    "a0 = testa-1\n",
    "\n",
    "stop = True\n",
    "it = 0\n",
    "values = []\n",
    "\n",
    "begin_gd = t.time()\n",
    "while stop:\n",
    "    vect = np.append(v0,a0)\n",
    "    gk = 1/(it+1)\n",
    "    v_temp, grad_temp = function(v0,a0)\n",
    "    values.append(v_temp)\n",
    "    vect -= gk*grad_temp\n",
    "    v0, a0 = vect[:-1] , vect[-1]\n",
    "    if it >2000:\n",
    "        stop = False\n",
    "    it+=1\n",
    "end_gd = t.time()"
   ]
  },
  {
   "cell_type": "code",
   "execution_count": 7,
   "metadata": {},
   "outputs": [
    {
     "data": {
      "image/png": "[encoded data removed]",
      "text/plain": [
       "<Figure size 432x288 with 1 Axes>"
      ]
     },
     "metadata": {
      "needs_background": "light"
     },
     "output_type": "display_data"
    },
    {
     "name": "stdout",
     "output_type": "stream",
     "text": [
      "le minimum de la fonction objectif est :  29.382056954691834\n"
     ]
    }
   ],
   "source": [
    "plt.plot([i for i in range(2002)],np.log(values))\n",
    "plt.show()\n",
    "print('le minimum de la fonction objectif est : ',values[-1])"
   ]
  },
  {
   "cell_type": "markdown",
   "metadata": {},
   "source": [
    "# 3 Méthode du sous-gradient stochastique\n",
    "\n",
    "## Question 3.1"
   ]
  },
  {
   "cell_type": "markdown",
   "metadata": {},
   "source": [
    "Le théoreme de transfer nous donne :\n",
    "$\n",
    "\\begin{equation}\n",
    "\\mathbb{E}[ f_I(v,a) ] = \\int f_i(v,a) dI(i)\n",
    "\\end{equation}\n",
    "$\n",
    "\n",
    "avec $dI = \\sum_{i=1}^{n} \\frac{\\delta_i}{n}$\n",
    "\n",
    "d'où : \n",
    "$\n",
    "\\begin{equation*}\n",
    "\\mathbb{E}[ f_I(v,a) ] = \\sum_{i=1}^{n} f_i(v,a) = \\sum_{i=1}^{n} \\left(  \\frac{1}{2}\\sum^{m}_{j=1}v_{j}^{2} + c\\times n \\times max(0,1-y_i(x_i^Tv + a) \\right) = f(v,a)\n",
    "\\end{equation*}\n",
    "$\n",
    "\n",
    "## Question 3.2\n",
    "\n",
    "Dans l'approche stochastique seule l'expression de $H$ et de $M$ changent, on a à présent : $H(v) = h(v)$ et en notant\n",
    "$\n",
    "\\begin{equation}\n",
    "M_i = \n",
    "\\begin{pmatrix}\n",
    "y_i  x_i^T & y_i \\\\\n",
    "\\end{pmatrix}\n",
    "\\end{equation}\n",
    "$ \n",
    "\n",
    "\n",
    "on a donc \n",
    "\n",
    "$\\partial f_i(v,a) = \\partial N(v,a) + cM^T\\partial H(M(v,a)) = \\partial N(v,a) + cM_i^T\\partial h(M_i(v,a))$\n",
    "\n",
    "## Question 3.3"
   ]
  },
  {
   "cell_type": "code",
   "execution_count": 8,
   "metadata": {},
   "outputs": [],
   "source": [
    "#renvoie la valeur de la fonction objectif\n",
    "def function_v(v,a):\n",
    "    vect = np.append(v,a)\n",
    "    value = N(vect).sum() + H(M.dot(vect)).sum()\n",
    "    return value \n",
    "\n",
    "# renvoie le gradient par rapport à la ieme coordonnée\n",
    "def function_i(v,a,i):\n",
    "    vect = np.append(v,a)\n",
    "    grad = gradN(vect) + M[i,:].T.dot(gradh(M[i,:].dot(vect)))\n",
    "    return grad\n",
    "\n",
    "r = lambda : np.random.randint(low = 0, high = M.shape[0]-1)\n",
    "\n",
    "v0_sto = testv-1\n",
    "a0_sto = testa-1\n",
    "\n",
    "stop = True\n",
    "it = 0\n",
    "\n",
    "# stocke les valeurs des différentes itération pour calculer le barycentre\n",
    "values_sto = []\n",
    "xks = []\n",
    "gks = np.array([])\n",
    "\n",
    "begin_sto = t.time()\n",
    "while stop:\n",
    "    vect_sto = np.append(v0_sto,a0_sto)\n",
    "    gk = 1/np.sqrt(it+1)\n",
    "    gks = np.append(gks,gk)\n",
    "    grad_temp = function_i(v0_sto,a0_sto,r())\n",
    "    vect_sto -= gk*grad_temp\n",
    "    xks.append(vect_sto)\n",
    "    barycentre = (gks.dot(np.array(xks))/(gks.sum()))\n",
    "    v_temp = function_v(barycentre[:-1],barycentre[-1])\n",
    "    values_sto.append(v_temp)\n",
    "    v0_sto, a0_sto = vect_sto[:-1] , vect_sto[-1]\n",
    "    if it >2000:\n",
    "        stop = False\n",
    "    it+=1\n",
    "end_sto = t.time()"
   ]
  },
  {
   "cell_type": "markdown",
   "metadata": {},
   "source": [
    "On vérifie que graphiquement que la méthode à marché"
   ]
  },
  {
   "cell_type": "code",
   "execution_count": 9,
   "metadata": {},
   "outputs": [
    {
     "data": {
      "image/png": "[encoded data removed]",
      "text/plain": [
       "<Figure size 432x288 with 1 Axes>"
      ]
     },
     "metadata": {
      "needs_background": "light"
     },
     "output_type": "display_data"
    },
    {
     "name": "stdout",
     "output_type": "stream",
     "text": [
      "la valeur la plus faible est :  86.54649964858187\n"
     ]
    }
   ],
   "source": [
    "plt.plot([i for i in range(2002)],np.log(values_sto))\n",
    "plt.show()\n",
    "print('la valeur la plus faible est : ',min(values_sto))"
   ]
  },
  {
   "cell_type": "markdown",
   "metadata": {},
   "source": [
    "# 4 Méthode du Lagrangien augmenté \n",
    "\n",
    "## Question 4.1\n",
    "\n",
    "Soit $\\phi_0 , \\phi_1 \\in \\mathbb{R}_{+}^n$ le Lagrangien de (1) s'écrit :\n",
    "\n",
    "$L : (v,a,\\zeta,\\phi_0,\\phi_1) \\mapsto f(v,a) + <\\phi_0,-\\zeta> + <\\phi_1,H'M(v,a)-\\zeta>$ \n",
    "\n",
    "avec $H'(x) = (h(x_1) , ... , h(x_n))$"
   ]
  },
  {
   "cell_type": "markdown",
   "metadata": {},
   "source": [
    "## Question 4.2"
   ]
  },
  {
   "cell_type": "markdown",
   "metadata": {},
   "source": [
    "la dérivée de $x \\mapsto max(0,x)$ est $\\mathbb{1}_{x>0}$ pour $x \\neq 0$\n",
    "\n",
    "$ \\frac{\\partial g}{\\partial \\phi} = -\\frac{\\phi}{\\rho} + \\frac{\\rho}{2}\\times \\frac{\\partial (\\max(0,x + \\frac{\\phi}{\\rho})^2)}{\\partial (\\max(0,x + \\frac{\\phi}{\\rho}))} \\times \\frac{\\partial( \\max(0,x + \\frac{\\phi}{\\rho}))}{\\partial (x + \\frac{\\phi}{\\rho})} \\times \\frac{\\partial  (x + \\frac{\\phi}{\\rho})}{\\partial \\phi} = -\\frac{\\phi}{\\rho} + \\frac{\\rho}{2}\\times2\\max(0,x+\\frac{\\phi}{\\rho}) \\times \\mathbb{1}_{x+\\frac{\\phi}{\\rho}>0} \\times \\frac{1}{\\rho} = -\\frac{\\phi}{\\rho} + \\max(0,x+\\frac{\\phi}{\\rho}) = \\max(-\\frac{\\phi}{\\rho},x) $\n",
    "\n",
    "$ \\frac{\\partial g}{\\partial x} = \\frac{\\rho}{2}\\times \\frac{\\partial (\\max(0,x + \\frac{\\phi}{\\rho})^2)}{\\partial (\\max(0,x + \\frac{\\phi}{\\rho}))} \\times \\frac{\\partial( \\max(0,x + \\frac{\\phi}{\\rho}))}{\\partial (x + \\frac{\\phi}{\\rho})} \\times \\frac{\\partial  (x + \\frac{\\phi}{\\rho})}{\\partial x} = \\frac{\\rho}{2}\\times 2 \\max(0,x+\\frac{\\phi}{\\rho}) \\times \\mathbb{1}_{x+\\frac{\\phi}{\\rho}>0} = \\rho \\max(0,x+\\frac{\\phi}{\\rho}) $"
   ]
  },
  {
   "cell_type": "markdown",
   "metadata": {},
   "source": [
    "## Question 4.3\n",
    "\n",
    "en dérivant une seconde fois on trouve :\n",
    "\n",
    "$ \\frac{d^2 g_\\theta(x)}{dx^2} = \\mathbb{1}_{x + \\frac{\\phi}{\\rho} \\leq 0} \\geq 0$ donc $g_{theta}$ est convexe \n",
    "\n",
    "$\\frac{d^2 g_x(\\theta)}{d\\theta^2} = -\\frac{1}{\\rho}\\mathbb{1}_{-\\frac{\\phi}{\\rho} \\leq x} \\leq 0$ donc $g_x$ est concave"
   ]
  },
  {
   "cell_type": "markdown",
   "metadata": {},
   "source": [
    "## Question 4.4"
   ]
  },
  {
   "cell_type": "markdown",
   "metadata": {},
   "source": [
    "On vérifie dans un premier temps que la déscente de gradient à ph1 et ph0 constant fonctionne."
   ]
  },
  {
   "cell_type": "code",
   "execution_count": 10,
   "metadata": {},
   "outputs": [],
   "source": [
    "e = 1 \n",
    "p = 2\n",
    "dy = np.diag(y)\n",
    "\n",
    "v0 = testv-1\n",
    "a0 = testa-1\n",
    "z0 = np.zeros((len(y),))\n",
    "ph0 = np.zeros((len(y),))\n",
    "ph1 = np.zeros((len(y),))\n",
    "\n",
    "# fonctions utiles\n",
    "g    = lambda x,ph : -ph**2/2/p + p*(max(0,x+ph/p)**2)/2\n",
    "ggx  = lambda x,ph : p*max(0,x+ph/p)\n",
    "ggth = lambda x,ph : max(-ph/p,x)\n",
    "\n",
    "# version vectoriser de ces fonctions\n",
    "gv = np.vectorize(g)\n",
    "ggxv = np.vectorize(ggx)\n",
    "ggthv = np.vectorize(ggth)\n",
    "\n",
    "# donne la valeur de la fonction lagrangein\n",
    "def vallp(v,a,z,ph0,ph1):\n",
    "    return (v*v).sum()/2 +z.sum() + gv(-z,ph1).sum() + gv(-z+1-dy.dot(x.dot(v)+a),ph0).sum()\n",
    "\n",
    "#gradient du lagragien selon v,a et z\n",
    "def gradlp(v,a,z):\n",
    "    gradv = v.copy() - (dy.dot(x).T).dot(ggxv(-z+1-dy.dot(x.dot(v)+a),ph0))\n",
    "    grada = -dy.dot(ggxv(-z+1-dy.dot(x.dot(v)+a),ph0)).sum()\n",
    "    gradz = np.ones(z.shape) - ggxv(-z,ph1) - ggxv(-z+1-dy.dot(x.dot(v)+a),ph0)\n",
    "    return gradv, grada, gradz"
   ]
  },
  {
   "cell_type": "code",
   "execution_count": 11,
   "metadata": {
    "scrolled": true
   },
   "outputs": [
    {
     "data": {
      "image/png": "[encoded data removed]",
      "text/plain": [
       "<Figure size 432x288 with 1 Axes>"
      ]
     },
     "metadata": {
      "needs_background": "light"
     },
     "output_type": "display_data"
    }
   ],
   "source": [
    "valp=[]\n",
    "vk = []\n",
    "\n",
    "# test de la déscente de gradient \n",
    "for i in range(500):\n",
    "    gradv, grada, gradz = gradlp(v0,a0,z0)\n",
    "    v0 -= gradv/(i+1000) # une constante à été rajouté pour éviter que les itérations divergent\n",
    "    a0 -= grada/(i+1000)\n",
    "    z0 -= gradz/(i+1000)\n",
    "    valeur = vallp(v0,a0,z0,ph0,ph1)\n",
    "    valp.append(valeur)\n",
    "\n",
    "plt.plot(range(len(valp)),valp)\n",
    "plt.show()"
   ]
  },
  {
   "cell_type": "markdown",
   "metadata": {},
   "source": [
    "On implémente maintenant la condition sur la norme du gradient"
   ]
  },
  {
   "cell_type": "code",
   "execution_count": 12,
   "metadata": {
    "scrolled": true
   },
   "outputs": [],
   "source": [
    "def norme(tuple):\n",
    "    maxco = 0\n",
    "    for elt in tuple:\n",
    "        maxco += np.linalg.norm(elt)\n",
    "    return maxco\n",
    "\n",
    "valp=[]\n",
    "ph0 = np.zeros((len(y),))\n",
    "ph1 = np.zeros((len(y),))\n",
    "\n",
    "\n",
    "def gradient_find(ph0,ph1)   :\n",
    "    v0 = testv-1\n",
    "    a0 = testa-1\n",
    "    z0 = np.zeros((len(y),))\n",
    "    def gradlpinner(v,a,z):\n",
    "        gradv = v.copy() - (dy.dot(x).T).dot(ggxv(-z+1-dy.dot(x.dot(v)+a),ph0))\n",
    "        grada = -dy.dot(ggxv(-z+1-dy.dot(x.dot(v)+a),ph0)).sum()\n",
    "        gradz = np.ones(z.shape) - ggxv(-z,ph1) - ggxv(-z+1-dy.dot(x.dot(v)+a),ph0) \n",
    "        return gradv, grada, gradz\n",
    "    gradv, grada, gradz = gradlpinner(v0,a0,z0)\n",
    "    norm = norme((gradv, grada, gradz))\n",
    "    it = 0\n",
    "    while norm > e and it < 500:\n",
    "        v0 -= gradv/(it+500) \n",
    "        a0 -= grada/(it+500)\n",
    "        z0 -= gradz/(it+500)\n",
    "        gradv, grada, gradz = gradlpinner(v0,a0,z0)\n",
    "        norm = norme((gradv, grada, gradz))\n",
    "        valeur = vallp(v0,a0,z0,ph0,ph1)\n",
    "        valp.append(valeur)\n",
    "        it+=1\n",
    "    return v0,a0,z0\n"
   ]
  },
  {
   "cell_type": "markdown",
   "metadata": {},
   "source": [
    "## Question 4.5"
   ]
  },
  {
   "cell_type": "code",
   "execution_count": 13,
   "metadata": {},
   "outputs": [],
   "source": [
    "def gradphlp(v,a,z,ph0,ph1):\n",
    "    gradph0 = ggthv(-z+1-dy.dot(x.dot(v)+a),ph0)\n",
    "    gradph1 = ggthv(-z,ph1)\n",
    "    return gradph0,gradph1"
   ]
  },
  {
   "cell_type": "markdown",
   "metadata": {},
   "source": [
    "## Question 4.6"
   ]
  },
  {
   "cell_type": "code",
   "execution_count": null,
   "metadata": {},
   "outputs": [],
   "source": [
    "ph0 = np.zeros((len(y),))\n",
    "ph1 = np.zeros((len(y),))\n",
    "valp2 = []\n",
    "\n",
    "begin_lag = t.time()\n",
    "for i in range(500):\n",
    "    vk,ak,zk = gradient_find(ph0,ph1)\n",
    "    gph0 , gph1 = gradphlp(vk,ak,zk,ph0,ph1)\n",
    "    ph0 += p*gph0\n",
    "    ph1 += p*gph1\n",
    "    valp2.append(vallp(vk,ak,zk,ph0,ph1))\n",
    "end_lag = t.time()\n",
    "    \n",
    "plt.plot(range(len(valp2)),valp2)\n",
    "plt.show()"
   ]
  },
  {
   "cell_type": "markdown",
   "metadata": {},
   "source": [
    "# 5 Comparaison\n",
    "\n",
    "## Question 5.1\n",
    "\n",
    "regardons d'abord la descente de gradient"
   ]
  },
  {
   "cell_type": "code",
   "execution_count": null,
   "metadata": {
    "scrolled": true
   },
   "outputs": [],
   "source": [
    "print('le minimum de la fonction objectif est : ',min(values))\n",
    "print('et ce résultat est atteint en {} s'.format(end_gd - begin_gd))"
   ]
  },
  {
   "cell_type": "markdown",
   "metadata": {},
   "source": [
    "regardons ensuite la descente de gradient stocastique"
   ]
  },
  {
   "cell_type": "code",
   "execution_count": null,
   "metadata": {
    "scrolled": true
   },
   "outputs": [],
   "source": [
    "print('le minimum de la fonction objectif est : ',min(values_sto))\n",
    "print('et ce résultat est atteint en {} s'.format((end_sto - begin_sto)*np.argmin(values_sto)/len(values_sto)))\n",
    "#on supose que toutes les itération prennent environ le même temps"
   ]
  },
  {
   "cell_type": "markdown",
   "metadata": {},
   "source": [
    "Enfin regardons la methode du lagrangien augmenté"
   ]
  },
  {
   "cell_type": "code",
   "execution_count": null,
   "metadata": {},
   "outputs": [],
   "source": [
    "print('le minimum de la fonction objectif est : ',min(valp2))\n",
    "print('et ce résultat est atteint en {} s'.format((end_lag - begin_lag)*np.argmin(valp2)/len(valp2)))"
   ]
  },
  {
   "cell_type": "markdown",
   "metadata": {},
   "source": [
    "Ainsi la méthode du lagrangien augmenté donne les meilleur résultats mais le temps d'execution est de l'ordre de 1000 fois plus grand que les autre méthode. La méthode de la déscente de gradient est plus rapide et donne des résultat seulement légèrement plus mauvais. Enfin la déscente de gradient stochastique est la méthode la plus rapide mais aussi la moins bonne."
   ]
  },
  {
   "cell_type": "code",
   "execution_count": null,
   "metadata": {},
   "outputs": [],
   "source": []
  }
 ],
 "metadata": {
  "kernelspec": {
   "display_name": "Python 3",
   "language": "python",
   "name": "python3"
  },
  "language_info": {
   "codemirror_mode": {
    "name": "ipython",
    "version": 3
   },
   "file_extension": ".py",
   "mimetype": "text/x-python",
   "name": "python",
   "nbconvert_exporter": "python",
   "pygments_lexer": "ipython3",
   "version": "3.7.0"
  }
 },
 "nbformat": 4,
 "nbformat_minor": 2
}
