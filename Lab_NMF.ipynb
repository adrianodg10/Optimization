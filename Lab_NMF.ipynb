{
 "cells": [
  {
   "cell_type": "markdown",
   "metadata": {},
   "source": [
    "# TP SD211: Nonnegative Matrix Factorization"
   ]
  },
  {
   "cell_type": "code",
   "execution_count": 3,
   "metadata": {},
   "outputs": [],
   "source": [
    "import numpy as np\n",
    "import matplotlib.pyplot as plt\n",
    "import scipy.optimize\n",
    "import scipy.sparse\n",
    "import scipy.sparse.linalg"
   ]
  },
  {
   "cell_type": "markdown",
   "metadata": {},
   "source": [
    "## 1. Database"
   ]
  },
  {
   "cell_type": "code",
   "execution_count": 4,
   "metadata": {},
   "outputs": [],
   "source": [
    "def build_matrix_from_faces(folder='att_faces', minidata=False):\n",
    "    # load images\n",
    "    # 400 images of size (112, 92)\n",
    "    M = []\n",
    "    if minidata is True:\n",
    "        nb_subjects = 1\n",
    "    else:\n",
    "        nb_subjects = 40\n",
    "    for subject in range(1, nb_subjects + 1\n",
    "                        ):\n",
    "        for image in range(1, 11):\n",
    "            face = plt.imread(folder + '/s' + str(subject)\n",
    "                              + '/' + str(image) + '.pgm')\n",
    "            M.append(face.ravel())\n",
    "\n",
    "    return np.array(M, dtype=float)\n",
    "\n",
    "def vectorize(W, H):\n",
    "    return np.concatenate((W.ravel(), H.ravel()))\n",
    "\n",
    "def unvectorize_M(W_H, M):\n",
    "    # number of elements in W_H is (n+p)*k where M is of size n x m\n",
    "    # W has the nk first elements\n",
    "    # H has the kp last elements\n",
    "    n, p = M.shape\n",
    "    k = W_H.shape[0] // (n + p)\n",
    "    W = W_H[:n * k].reshape((n, k))\n",
    "    H = W_H[n * k:].reshape((k, p))\n",
    "    return W, H"
   ]
  },
  {
   "cell_type": "code",
   "execution_count": 5,
   "metadata": {},
   "outputs": [],
   "source": [
    "# Small data to test the algorithm\n",
    "M = build_matrix_from_faces(folder='att_faces', minidata=True)\n",
    "def unvectorize(W_H): return unvectorize_M(W_H, M)\n",
    "k = 2"
   ]
  },
  {
   "cell_type": "code",
   "execution_count": 6,
   "metadata": {},
   "outputs": [
    {
     "data": {
      "image/png": "[encoded data removed]",
      "text/plain": [
       "<Figure size 432x288 with 1 Axes>"
      ]
     },
     "metadata": {
      "needs_background": "light"
     },
     "output_type": "display_data"
    }
   ],
   "source": [
    "# To see the first face:\n",
    "plt.imshow(M[0].reshape((112, 92)), cmap='gray'); plt.show()\n",
    "# Full data\n",
    "M = build_matrix_from_faces(folder='att_faces', minidata=True)\n",
    "\n",
    "def unvectorize(W_H): return unvectorize_M(W_H, M)\n",
    "k = 3"
   ]
  },
  {
   "cell_type": "code",
   "execution_count": 152,
   "metadata": {},
   "outputs": [
    {
     "name": "stdout",
     "output_type": "stream",
     "text": [
      "Number of images: 10\n",
      "Number of pixels per image: 10304\n"
     ]
    }
   ],
   "source": [
    "n,p = M.shape # shape of M fixed for whole lab\n",
    "\n",
    "#In the project we use the mini-data set for computation time's sake\n",
    "\n",
    "print('Number of images: '+str(n))\n",
    "print('Number of pixels per image: '+str(p))"
   ]
  },
  {
   "cell_type": "markdown",
   "metadata": {},
   "source": [
    "## 2. Presentation of the model"
   ]
  },
  {
   "cell_type": "markdown",
   "metadata": {},
   "source": [
    "Let's find a counter example where the objective function is not convex. Let's fix n=p=k=1.\n",
    "\n",
    "The objective function is $ f = \\frac{1}{2}(m-wh)^{2}$\n",
    "\n",
    "The Hessian Matrix of f is $\\nabla^{2} f = \\bigg{(}\\begin{matrix}h^2 & 2wh-m \\\\ 2wh-m & w^2\\end{matrix}\\bigg{)} \\\\\n",
    "$.\n",
    "\n",
    "We get, \n",
    "\n",
    "$det \\nabla^{2} f = -3(hw)^{2} -m^{2} +4mhw $. \n",
    "\n",
    "If we chose $m=1, h=1, w=-1, \\: det \\nabla^{2} f < 0$\n",
    "which implies that f is not convex since it shows that $\\nabla^{2} f $ has a negative eigenvalue. We have exhibited a case where the objective function is not convex, thus we cannot suppose that it is convex in a general case.\n",
    "\n"
   ]
  },
  {
   "cell_type": "markdown",
   "metadata": {},
   "source": [
    "Now let's compute the gradient.  \n",
    "\n",
    "$f(W+\\delta W,H)= \\frac{1}{2np} \\Vert M-(W-\\delta W)H\\Vert^{2} \\\\ =\\frac{1}{2np}( \\Vert M-WH\\Vert^{2} - 2\\langle M-WH,\\delta WH\\rangle + o\\Vert W \\Vert^{2}) \\\\ = \\frac{1}{2np}( \\Vert M-W\\Vert^{2} - 2\\langle (M-WH)H^{t} , \\delta W\\rangle + o\\Vert W \\Vert^{2})\n",
    "$\n",
    "\n",
    "Thus we get that, \n",
    "\n",
    "$f(W+\\delta W,H)-f(W,H) = -\\frac{1}{np}\\langle (M-WH)H^{t} , \\delta W\\rangle + o\\Vert W \\Vert^{2}$\n",
    "\n",
    "and therefore,\n",
    "\n",
    "$\\frac{\\partial f}{\\partial W} = -\\frac{1}{np}(M-WH)H^{t}$ \n",
    "\n",
    "Doing a similar differentiation for H, we get that \n",
    "\n",
    "$\\nabla f(W,H) = \\Bigg{\\{}\\begin{matrix}  \\frac{\\partial f}{\\partial W} = -\\frac{1}{np}(M-WH)H^{t} \\\\ \\frac{\\partial f}{\\partial H} = -\\frac{1}{np}W^{t}(M-WH) \\end{matrix}$\n",
    "\n"
   ]
  },
  {
   "cell_type": "markdown",
   "metadata": {},
   "source": [
    "## 3. Find $W$ when $H_{0}$ is fixed"
   ]
  },
  {
   "cell_type": "markdown",
   "metadata": {},
   "source": [
    "### 3.1"
   ]
  },
  {
   "cell_type": "code",
   "execution_count": 21,
   "metadata": {},
   "outputs": [],
   "source": [
    "# Initialisation\n",
    "W0, S, H0 = scipy.sparse.linalg.svds(M, k)\n",
    "W0 = np.maximum(0, W0 * np.sqrt(S))\n",
    "H0 = np.maximum(0,(H0.T * np.sqrt(S)).T)"
   ]
  },
  {
   "cell_type": "markdown",
   "metadata": {},
   "source": [
    "The advantage of this choice is that we are using another type of factorisation to approximate the solution. We thus assume that the two factorization techniques will yield close results. The computation will require less iterations if the initial matrixes are close to the solutions given by NMF. Other possibilities are to initialise at random or with a fixed W or H."
   ]
  },
  {
   "cell_type": "markdown",
   "metadata": {},
   "source": [
    "### 3.2"
   ]
  },
  {
   "cell_type": "markdown",
   "metadata": {},
   "source": [
    "Let $W_{1}$ and $W_{2}$ be two $n \\times k$ matrixes.\n",
    "For $t \\in (0,1):$\n",
    "\n",
    "$ g\\,(tW_{1}+(1-t)W_{2}) = \\frac{1}{2np}\\Vert ((t(M-W_{1})+(1-t)(M-W_{2}))H_{0}\\Vert^{2} \\leq \\Vert t(M-W_{1})H_{0}\\Vert^{2} + \\Vert (1-t)(M-W_{2})H_{0}\\Vert^{2} \\\\ \\leq t\\Vert (M-W_{1})H_{0}\\Vert^{2} + (1-t)\\Vert(M-W_{2})H_{0}\\Vert^{2} = tg(W_{1})+(1-t)g(W_{2})$\n",
    "\n",
    "$g$ satisfies the convex inequality, thus $g$ is convex."
   ]
  },
  {
   "cell_type": "markdown",
   "metadata": {},
   "source": [
    "$\\nabla\\,g(W) = -\\frac{1}{np}(M-WH_{0})H_{0}^{t}$"
   ]
  },
  {
   "cell_type": "markdown",
   "metadata": {},
   "source": [
    "### 3.3"
   ]
  },
  {
   "cell_type": "code",
   "execution_count": 22,
   "metadata": {},
   "outputs": [],
   "source": [
    "def val_g(W): #Computes the value of g(W)\n",
    "    WH0=np.dot(W,H0)\n",
    "    return 1/(2*n*p)*np.linalg.norm(M-WH0,ord='fro')**2\n",
    "\n",
    "def grad_g1(W,H): #Computes the value of grad g(W) but with 2 arguments (easier for implementation). \n",
    "    return (-1/(n*p)*np.dot(M-np.dot(W,H),H.T))\n",
    "\n",
    "def val_vect_g(W_vec): #computes the value of g(W) with W vectorized (for scipy)\n",
    "    Wp = W_vec.reshape((n,k))\n",
    "    return val_g(Wp).ravel()\n",
    "    \n",
    "def grad_vect_g(W_vec): #computes the value of grad g(W) with W vectorized (for scipy)\n",
    "    W = W_vec.reshape((n,k))\n",
    "    return grad_g(W).ravel()"
   ]
  },
  {
   "cell_type": "code",
   "execution_count": 23,
   "metadata": {},
   "outputs": [
    {
     "name": "stdout",
     "output_type": "stream",
     "text": [
      "3.875046240706016e-05\n"
     ]
    }
   ],
   "source": [
    "print(scipy.optimize.check_grad(val_vect_g, grad_vect_g, W0.ravel()))"
   ]
  },
  {
   "cell_type": "markdown",
   "metadata": {},
   "source": [
    "Such a low value comforts us into thinking that our gradient seems to be correct."
   ]
  },
  {
   "cell_type": "markdown",
   "metadata": {},
   "source": [
    "### 3.4"
   ]
  },
  {
   "cell_type": "markdown",
   "metadata": {},
   "source": [
    "Let $x$ be in $\\mathbb{R}_{+}$\n",
    "\n",
    "$prox_{ \\gamma \\iota_{\\mathbb{R}_{+}}}(x) = \\underset{y \\in \\mathbb{R}}{argmin} \\, \\,  \\iota_{\\mathbb{R}_{+}}(y) + \\frac{1}{2\\gamma}\\Vert x-y \\Vert^{2}$\n",
    "\n",
    "To be a minimum of this function, $y$ must be in $\\mathbb{R}_{+}$, otherwise the function is worth $+\\infty$.\n",
    "\n",
    "So we have: \n",
    "\n",
    "$prox_{ \\gamma \\iota_{\\mathbb{R}_{+}}}(x) = \\underset{y \\in \\mathbb{R}_{+}}{argmin} \\, \\,  \\frac{1}{2\\gamma}\\Vert x-y \\Vert^{2} = \\underset{y \\in \\mathbb{R}_{+}}{argmin} \\, \\,  \\Vert x-y \\Vert^{2} $\n",
    "\n",
    "Which is the definition of the projection of $x$ on $\\mathbb{R}_{+}$\n"
   ]
  },
  {
   "cell_type": "code",
   "execution_count": 144,
   "metadata": {},
   "outputs": [],
   "source": [
    "def proj(M): #proximal operator\n",
    "    return np.maximum(0,M)\n",
    "\n",
    "#returns unidimensional optimisation of W with H fixed with constant step\n",
    "\n",
    "def projected_gradient_method(val_g, grad_g1, H,W, gamma, N): \n",
    "    c=0\n",
    "    Wo = W\n",
    "    while c < N:\n",
    "        Wo = proj(Wo-gamma*(grad_g1(Wo,H)))\n",
    "        c+=1\n",
    "    return Wo"
   ]
  },
  {
   "cell_type": "code",
   "execution_count": 128,
   "metadata": {},
   "outputs": [],
   "source": [
    "#determination of the step\n",
    "L0= np.linalg.norm(np.dot(H0.T,H0),ord='fro')\n",
    "gamma0=n*p/L0"
   ]
  },
  {
   "cell_type": "markdown",
   "metadata": {},
   "source": [
    "## 4. Algorithmic refinement with $H_{0}$ fixed"
   ]
  },
  {
   "cell_type": "markdown",
   "metadata": {},
   "source": [
    "We are going to implement a Taylor line search to determine at each iteration the right value of the step."
   ]
  },
  {
   "cell_type": "code",
   "execution_count": 81,
   "metadata": {},
   "outputs": [],
   "source": [
    "def taylor_line_search(func,grad,gamma,H0,W0,optimiseH=False): #returns step found with the taylor line search algorithm\n",
    "    if optimiseH:\n",
    "\n",
    "# initialisation of the step        \n",
    "        a=0.5 \n",
    "        b= 2*gamma\n",
    "        gammak = b\n",
    "        X = H0-gammak*grad(H0,W0)\n",
    " \n",
    "        while func([W0,X]) > func([W0,X]) -(1/2)*gammak*(np.linalg.norm(grad(H0,W0)))**2: #taylor condition so that f decreases\n",
    "            gammak = gammak*a\n",
    "            X = H0-gammak*grad(H0,W0)\n",
    "        return gammak\n",
    "    \n",
    "    else:\n",
    "        a=0.5\n",
    "        b= 2*gamma\n",
    "        gammak = b\n",
    "        X = W0-gammak*grad(W0,H0)\n",
    "        while func([X,H0]) > func([X,H0]) -(1/2)*gammak*(np.linalg.norm(grad(W0,H0)))**2:\n",
    "            gammak = gammak*a\n",
    "            X= W0-gammak*grad(W0,H0)\n",
    "        return gammak\n",
    "\n"
   ]
  },
  {
   "cell_type": "code",
   "execution_count": 151,
   "metadata": {},
   "outputs": [],
   "source": [
    "#returns unidimensional optimisation of H (resp. W) with W (resp. H) fixed with line search\n",
    "def line_search_projection_gradient_method(val_f, grad_g1, H,W, gamma0, N, optimiseH=False): \n",
    "    if optimiseH:\n",
    "        c=0\n",
    "        Ho=H\n",
    "        gamma = gamma0\n",
    "        while c < N:\n",
    "            Ho = proj(Ho-gamma*(grad_h(Ho,W)))\n",
    "            gamma = taylor_line_search(val_f,grad_h,gamma,Ho,W,optimiseH=True)\n",
    "            c +=1\n",
    "        return Ho\n",
    "\n",
    "\n",
    "    else:\n",
    "        c=0\n",
    "        Wo = W\n",
    "        gamma = gamma0\n",
    "        while c < N:\n",
    "            Wo = proj(Wo-gamma*(grad_g1(Wo,H)))\n",
    "            gamma = taylor_line_search(val_f,grad_g1,gamma,H,Wo)\n",
    "            c +=1\n",
    "        return Wo\n",
    "\n"
   ]
  },
  {
   "cell_type": "code",
   "execution_count": 132,
   "metadata": {},
   "outputs": [
    {
     "name": "stdout",
     "output_type": "stream",
     "text": [
      "Intial value of objective function = 416.80820665867685\n"
     ]
    },
    {
     "data": {
      "text/plain": [
       "'Constant Step:'"
      ]
     },
     "metadata": {},
     "output_type": "display_data"
    },
    {
     "name": "stdout",
     "output_type": "stream",
     "text": [
      "Execution time with constant step = 0.0462191104888916\n",
      "g(W) = 393.366955931801\n"
     ]
    },
    {
     "data": {
      "text/plain": [
       "'Taylor Line Search:'"
      ]
     },
     "metadata": {},
     "output_type": "display_data"
    },
    {
     "name": "stdout",
     "output_type": "stream",
     "text": [
      "Execution time with taylor line search = 0.4645719528198242\n",
      "g(W) = 400.88717579382995\n"
     ]
    }
   ],
   "source": [
    "#performances\n",
    "import time\n",
    "\n",
    "print (\"Intial value of objective function = \"+str(val_g(W0)))\n",
    "\n",
    "display('Constant Step:')\n",
    "begin = time.time()\n",
    "W1 = projected_gradient_method(val_g,grad_g1,H0,W0,gamma0,100)\n",
    "end = time.time()\n",
    "\n",
    "print(\"Execution time with constant step = \"+str(end-begin))\n",
    "print('g(W) = '+str(val_f([W1,H0])))\n",
    "\n",
    "display('Taylor Line Search:')\n",
    "begin = time.time()\n",
    "W2 = line_search_projection_gradient_method(val_f,grad_g1,H0,W0,gamma0,100)\n",
    "end = time.time()\n",
    "\n",
    "print(\"Execution time with taylor line search = \"+str(end-begin))\n",
    "print('g(W) = '+str(val_f([W2,H0])))\n"
   ]
  },
  {
   "cell_type": "markdown",
   "metadata": {},
   "source": [
    "The constant step method has better performances because there is no need to compute the appropriate step at each iteration, both of them yield comparable values for the objective function. This is because we already have a good idea of the step we need to use in the projected gradient descent as we have knowledge of $L_{0}$. If we didn't know this constant, the value of the objective function in the second algorithm will probably be much better. Furthermore, we could gain execution time for the taylor line search by using scipy.optimize.linesearch which will compute the appropriate step faster than our iterative algorithm or we could use the exact line search method and compute the real value of the step at each iteration. "
   ]
  },
  {
   "cell_type": "code",
   "execution_count": 146,
   "metadata": {},
   "outputs": [
    {
     "data": {
      "text/plain": [
       "array([[ 0.        ,  0.        , 64.3604483 ],\n",
       "       [ 0.        ,  0.        , 70.75177521],\n",
       "       [ 0.        ,  0.        , 65.94946631],\n",
       "       [39.14049561, 30.73649672, 62.47215824],\n",
       "       [ 0.        , 24.63928947, 67.56691955],\n",
       "       [52.61955074,  0.        , 64.32136502],\n",
       "       [10.47242422,  0.        , 65.93969336],\n",
       "       [ 0.        , 19.14975815, 63.08883329],\n",
       "       [ 0.        , 58.37480551, 60.44105193],\n",
       "       [ 0.        ,  8.5181865 , 65.10525922]])"
      ]
     },
     "metadata": {},
     "output_type": "display_data"
    }
   ],
   "source": [
    "display(W1) #result with constant step"
   ]
  },
  {
   "cell_type": "code",
   "execution_count": 145,
   "metadata": {},
   "outputs": [
    {
     "data": {
      "text/plain": [
       "array([[ 0.36016337,  0.        , 64.29315903],\n",
       "       [ 0.        ,  0.        , 70.75177521],\n",
       "       [ 0.        ,  0.        , 65.94946631],\n",
       "       [32.15747636, 21.06943013, 64.30858063],\n",
       "       [ 0.        , 14.05699013, 68.85099269],\n",
       "       [39.87640858,  0.        , 65.57925827],\n",
       "       [12.45812751,  0.        , 65.76955381],\n",
       "       [ 0.        , 21.84628874, 62.79147543],\n",
       "       [ 0.        , 35.09444909, 63.27082171],\n",
       "       [ 0.        , 10.8862681 , 64.83438076]])"
      ]
     },
     "metadata": {},
     "output_type": "display_data"
    }
   ],
   "source": [
    "display(W2) #result with line search"
   ]
  },
  {
   "cell_type": "markdown",
   "metadata": {},
   "source": [
    "We see that the results are similar, both algorithms seem to be effective"
   ]
  },
  {
   "cell_type": "markdown",
   "metadata": {},
   "source": [
    "## 5. Resolution of the full problem"
   ]
  },
  {
   "cell_type": "markdown",
   "metadata": {},
   "source": [
    "### 5.1"
   ]
  },
  {
   "cell_type": "markdown",
   "metadata": {},
   "source": [
    "First we define new functions that take into account the fact that H is not fixed anymore."
   ]
  },
  {
   "cell_type": "markdown",
   "metadata": {},
   "source": [
    "Similarly to the definition of g, let h be the function such that, \n",
    "\n",
    "$\\forall H, \\, h(H)= \\frac{1}{2np} \\Vert M-WH\\Vert^{2}$"
   ]
  },
  {
   "cell_type": "code",
   "execution_count": null,
   "metadata": {},
   "outputs": [],
   "source": [
    "def val_f(WH): #returns the value of objective function\n",
    "    W=WH[0]\n",
    "    H=WH[1]\n",
    "    W_H=np.dot(W,H)\n",
    "    return 1/(2*n*p)*np.linalg.norm(M-np.dot(W,H),ord='fro')**2\n",
    "\n",
    "\n",
    "def grad_f(WH): #returns the gradient of objective function\n",
    "    W=WH[0]\n",
    "    H=WH[1]\n",
    "    a = (-1/(n*p)*np.dot(M-np.dot(W,H),H.T)) #grad // W\n",
    "    b = (-1/(n*p)*np.dot(W.T,M-np.dot(W,H))) #grad // H\n",
    "    return a,b\n",
    "\n",
    "def grad_h(H,W):\n",
    "    return (-1/(n*p)*np.dot(W.T,M-np.dot(W,H))) #grad // H\n",
    "\n",
    "\n",
    "#finds the step with taylor line search algorithm for the full problem\n",
    "def taylor_line_search_full(func,grad_f,grad_g,grad_h,gamma,WH): \n",
    "    a=0.5\n",
    "    b= 2*gamma\n",
    "    gammak = b\n",
    "    W =WH[0]\n",
    "    H =WH[1]\n",
    "    X1 = W-gammak*grad_g1(W,H)\n",
    "    X2 = H-gammak*grad_h(H,W)\n",
    "    while func([X1,X2]) > func([W,H]) -(1/2)*gammak*((np.linalg.norm(grad_h(H,W)))**2 + (np.linalg.norm(grad_g1(W,H)))**2):\n",
    "        gammak = gammak*a\n",
    "        X1 = W-gammak*grad_g1(W,H)\n",
    "        X2 = H-gammak*grad_h(H,W)\n",
    "\n",
    "        return gammak"
   ]
  },
  {
   "cell_type": "code",
   "execution_count": 134,
   "metadata": {},
   "outputs": [],
   "source": [
    "#projected gradient method for full problem\n",
    "\n",
    "def projected_gradient_method_full(val_f, grad_f,grad_g1,grad_h, W, H, gamma0, N):\n",
    "    c=0\n",
    "    Wo = W\n",
    "    Ho = H\n",
    "    gamma = gamma0\n",
    "    while c < N:\n",
    "        grad=grad_f([Wo,Ho])\n",
    "        Wo = proj(Wo-gamma*(grad[0]))\n",
    "        Ho = proj(Ho-gamma*(grad[1]))\n",
    "        gamma = taylor_line_search_full(val_f,grad_f,grad_g1, grad_h,gamma,[Wo,Ho])\n",
    "        c +=1\n",
    "    \n",
    "    return Wo,Ho\n",
    "\n",
    "\n",
    "    "
   ]
  },
  {
   "cell_type": "code",
   "execution_count": 135,
   "metadata": {},
   "outputs": [
    {
     "data": {
      "text/plain": [
       "1.100630634860616"
      ]
     },
     "execution_count": 135,
     "metadata": {},
     "output_type": "execute_result"
    }
   ],
   "source": [
    "taylor_line_search_full(val_f,grad_f,grad_g1,grad_h,gamma0,(W0,H0))"
   ]
  },
  {
   "cell_type": "code",
   "execution_count": 138,
   "metadata": {},
   "outputs": [
    {
     "name": "stdout",
     "output_type": "stream",
     "text": [
      "Objective function before full line search projected gradient = 416.80820665867685\n",
      "Objective function after full line search projected gradient = 254.51340168899387\n"
     ]
    },
    {
     "data": {
      "text/plain": [
       "array([[35.51293413,  4.087492  , 58.2437089 ],\n",
       "       [ 5.95712418,  6.75796484, 89.38289536],\n",
       "       [30.67135781,  0.        , 68.04112361],\n",
       "       [66.39015642, 51.79744803,  0.        ],\n",
       "       [ 3.53837394, 55.77010903, 49.38165549],\n",
       "       [85.74737169,  8.73802959, 19.58219581],\n",
       "       [48.75768947, 17.05992876, 39.90915475],\n",
       "       [17.50690698, 62.24594709, 25.14150377],\n",
       "       [18.67910471, 77.95717562, 13.60368703],\n",
       "       [ 0.        , 50.09563045, 51.17018937]])"
      ]
     },
     "metadata": {},
     "output_type": "display_data"
    },
    {
     "data": {
      "text/plain": [
       "array([[0.39912811, 0.40039978, 0.26613059, ..., 1.10861882, 0.93295823,\n",
       "        1.11533939],\n",
       "       [0.43955169, 0.41496467, 0.35813546, ..., 0.1730058 , 0.13328859,\n",
       "        0.08542833],\n",
       "       [0.50076169, 0.56586816, 0.65279161, ..., 0.22922647, 0.31982677,\n",
       "        0.27393861]])"
      ]
     },
     "metadata": {},
     "output_type": "display_data"
    }
   ],
   "source": [
    "W3,H3 = projected_gradient_method_full(val_f,grad_f,grad_g1,grad_h,W0,H0,gamma0,1000)\n",
    "\n",
    "print(\"Objective function before full line search projected gradient = \"+str(val_f([W0,H0])))\n",
    "print(\"Objective function after full line search projected gradient = \"+str(val_f([W3,H3])))\n",
    "\n",
    "display(W3,H3)"
   ]
  },
  {
   "cell_type": "markdown",
   "metadata": {},
   "source": [
    "The algorithm returns W and H corresponding to the nmf factorization of M where both W and H were optimised simultaniously. "
   ]
  },
  {
   "cell_type": "markdown",
   "metadata": {},
   "source": [
    "### 5.2"
   ]
  },
  {
   "cell_type": "markdown",
   "metadata": {},
   "source": [
    "First we have that: \n",
    "\n",
    "$ \\forall H, f(W_{t},H_{t}) \\leq f(W_{t},H)$ \n",
    "\n",
    "In particular we have $f(W_{t},H_{t}) \\leq f(W_{t},H_{t-1}).$\n",
    "\n",
    "Next, we have that:\n",
    "\n",
    "$ \\forall W, f(W_{t},H_{t-1}) \\leq f(W,H_{t-1})$ \n",
    "\n",
    "In particular we have $f(W_{t},H_{t-1}) \\leq f(W_{t-1},H_{t-1}).$\n",
    "\n",
    "By combining what we have shown above, we get that:\n",
    "\n",
    "$ f(W_{t},H_{t}) \\leq f(W_{t-1},H_{t-1})$\n",
    "The objective function decreases at every iteration. Since $f \\geq 0$ and $ \\big{(} \\, f(W_{t},H_{t})\\big{)}_{t\\geq 1}$ decreases, we get that the value converges by the monotone covergence theorem. \n",
    "\n"
   ]
  },
  {
   "cell_type": "markdown",
   "metadata": {},
   "source": [
    "### 5.3"
   ]
  },
  {
   "cell_type": "code",
   "execution_count": 147,
   "metadata": {},
   "outputs": [],
   "source": [
    "# alternative minimistion method\n",
    "def alternative_minimization(val_f,grad_g1,grad_h,H,W,gamma0,N):\n",
    "    c=0\n",
    "    while c < N:\n",
    "        W = line_search_projection_gradient_method(val_f,grad_g1,H,W,gamma0,100)\n",
    "        H = line_search_projection_gradient_method(val_f, grad_h,H,W,gamma0,100,optimiseH=True)\n",
    "        c+=1\n",
    "    \n",
    "    return W,H"
   ]
  },
  {
   "cell_type": "markdown",
   "metadata": {},
   "source": [
    "### 5.4"
   ]
  },
  {
   "cell_type": "code",
   "execution_count": 150,
   "metadata": {},
   "outputs": [
    {
     "name": "stdout",
     "output_type": "stream",
     "text": [
      "Initial value of the objective function  = 416.80820665867685\n"
     ]
    },
    {
     "data": {
      "text/plain": [
       "'Projected Gradient Method:'"
      ]
     },
     "metadata": {},
     "output_type": "display_data"
    },
    {
     "name": "stdout",
     "output_type": "stream",
     "text": [
      "Objective Function = 264.9252804062315\n",
      "Execution time  = 0.8353631496429443\n"
     ]
    },
    {
     "data": {
      "text/plain": [
       "'Alternative Minimization:'"
      ]
     },
     "metadata": {},
     "output_type": "display_data"
    },
    {
     "name": "stdout",
     "output_type": "stream",
     "text": [
      "Objective Function = 271.12049912896697\n",
      "Execution time' = 97.65426683425903\n"
     ]
    }
   ],
   "source": [
    "print(\"Initial value of the objective function  = \"+str(val_f([W0,H0])))\n",
    "\n",
    "begin = time.time()\n",
    "W4,H4 = projected_gradient_method_full(val_f,grad_f,grad_g1,grad_h,W0,H0,gamma0,100)\n",
    "end = time.time()\n",
    "\n",
    "display('Projected Gradient Method:') \n",
    "\n",
    "print(\"Objective Function = \"+str(val_f([W4,H4])))\n",
    "print(\"Execution time  = \"+str(end-begin))\n",
    "\n",
    "begin = time.time()\n",
    "W5,H5 = alternative_minimization(val_f,grad_g1,grad_h,H0,W0,gamma0,100)\n",
    "end = time.time()\n",
    "\n",
    "display('Alternative Minimization:') \n",
    "\n",
    "print(\"Objective Function = \"+str(val_f([W5,H5])))\n",
    "print(\"Execution time' = \"+str(end-begin))\n",
    "\n",
    "\n",
    "\n"
   ]
  },
  {
   "cell_type": "code",
   "execution_count": 148,
   "metadata": {},
   "outputs": [
    {
     "data": {
      "text/plain": [
       "array([[15.28217183,  0.        , 70.90174102],\n",
       "       [18.75592555,  0.        , 77.10073877],\n",
       "       [15.22876028,  0.        , 72.97585907],\n",
       "       [49.44771115, 51.12487412, 31.28058347],\n",
       "       [ 4.43932985, 47.04427419, 53.93067086],\n",
       "       [69.21203291,  7.51647557, 48.99736566],\n",
       "       [31.44270192, 13.05355068, 59.0233721 ],\n",
       "       [ 0.        , 53.55064927, 45.71573517],\n",
       "       [ 2.39320734, 73.27373546, 34.88446045],\n",
       "       [ 0.        , 36.93213927, 57.01371926]])"
      ]
     },
     "metadata": {},
     "output_type": "display_data"
    },
    {
     "data": {
      "text/plain": [
       "array([[0.29659046, 0.26812018, 0.05403851, ..., 1.35084443, 1.06623926,\n",
       "        1.3580681 ],\n",
       "       [0.38876907, 0.33999052, 0.23984438, ..., 0.2431093 , 0.13681721,\n",
       "        0.13391951],\n",
       "       [0.56003253, 0.63053368, 0.71716094, ..., 0.27374524, 0.37979513,\n",
       "        0.31114656]])"
      ]
     },
     "metadata": {},
     "output_type": "display_data"
    }
   ],
   "source": [
    "display(W4,H4) "
   ]
  },
  {
   "cell_type": "code",
   "execution_count": 149,
   "metadata": {},
   "outputs": [
    {
     "data": {
      "text/plain": [
       "array([[5.69379709e-01, 0.00000000e+00, 6.46698123e+01],\n",
       "       [0.00000000e+00, 0.00000000e+00, 7.10318743e+01],\n",
       "       [0.00000000e+00, 0.00000000e+00, 6.63581546e+01],\n",
       "       [3.54077491e+01, 2.32072733e+01, 6.28327124e+01],\n",
       "       [0.00000000e+00, 1.63273109e+01, 6.84709685e+01],\n",
       "       [4.41348695e+01, 0.00000000e+00, 6.46236845e+01],\n",
       "       [1.38541383e+01, 0.00000000e+00, 6.56399318e+01],\n",
       "       [0.00000000e+00, 2.27533329e+01, 6.24641153e+01],\n",
       "       [2.07011892e-02, 3.86326290e+01, 6.21169507e+01],\n",
       "       [0.00000000e+00, 1.17114903e+01, 6.48379069e+01]])"
      ]
     },
     "metadata": {},
     "output_type": "display_data"
    },
    {
     "data": {
      "text/plain": [
       "array([[0.02827974, 0.01535327, 0.        , ..., 1.22025258, 0.90800333,\n",
       "        1.20866584],\n",
       "       [0.05392474, 0.        , 0.        , ..., 0.        , 0.        ,\n",
       "        0.        ],\n",
       "       [0.72185606, 0.76223704, 0.72828496, ..., 0.59122033, 0.59065003,\n",
       "        0.58110282]])"
      ]
     },
     "metadata": {},
     "output_type": "display_data"
    }
   ],
   "source": [
    "display(W5,H5)"
   ]
  },
  {
   "cell_type": "markdown",
   "metadata": {},
   "source": [
    "The projected gradient with linesearch method gives both a better value for the objective function and is executed much faster. The alternative minimisation takes more than a hundred times the time of the projected gradient algorithm's execution time. This is normal since each iteration constitutes 200 iterations of the unidimensional linesearch method. Despite the number of iterations, it disapointingly does not yield a better value for the objective function. \n",
    "\n",
    "Also, we see the resulting matrixes are quite different, but there is no real way to say which factorisation is better without looking at the objective function. "
   ]
  },
  {
   "cell_type": "markdown",
   "metadata": {},
   "source": [
    "### 5.5"
   ]
  },
  {
   "cell_type": "markdown",
   "metadata": {},
   "source": [
    "We could use a criterion on the step. \n",
    "There are many different ways to do this. \n",
    "\n",
    "One of them could be:  if $\\Vert(W_{t}-W_{t-1},H_{t}-H_{t-1})\\Vert \\leq \\alpha $ where $ \\alpha$ is chosen by the user, the algorithm stops. We can decide to apply this criteria only on H or only on W. \n",
    "\n",
    "\n",
    "We could also use a criterion on the cost function, where the algorithm stops if $f(W_{t},H_{t}) - f(W_{t-1},H_{t-1}) \\leq \\epsilon$ where the user fixes $\\epsilon$.  \n",
    "\n",
    "In both cases the criterion stops the algorithm when the algorithm is likely to be close to convergence (convergence of W and H in the first case, and convergence of the objective function in the later."
   ]
  }
 ],
 "metadata": {
  "kernelspec": {
   "display_name": "Python 3",
   "language": "python",
   "name": "python3"
  },
  "language_info": {
   "codemirror_mode": {
    "name": "ipython",
    "version": 3
   },
   "file_extension": ".py",
   "mimetype": "text/x-python",
   "name": "python",
   "nbconvert_exporter": "python",
   "pygments_lexer": "ipython3",
   "version": "3.7.3"
  }
 },
 "nbformat": 4,
 "nbformat_minor": 2
}
